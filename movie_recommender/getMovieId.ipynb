{
 "cells": [
  {
   "cell_type": "code",
   "execution_count": 20,
   "metadata": {},
   "outputs": [],
   "source": [
    "import pickle\n",
    "import pandas as pd\n",
    "import csv\n",
    "from collections import defaultdict"
   ]
  },
  {
   "cell_type": "code",
   "execution_count": 21,
   "metadata": {},
   "outputs": [],
   "source": [
    "linksmall = pd.read_csv('../../Dataset/ml-latest-small/links.csv', dtype = {'movieId': int, 'imdbId': str, 'tmdbId': str})\n",
    "linklarge = pd.read_csv('../../Dataset/ml-25m/links.csv', dtype = {'movieId': int, 'imdbId': str, 'tmdbId': str})"
   ]
  },
  {
   "cell_type": "code",
   "execution_count": 22,
   "metadata": {},
   "outputs": [],
   "source": [
    "linksmall.drop('tmdbId',axis=1,inplace=True)\n",
    "linklarge.drop('tmdbId',axis=1,inplace=True)"
   ]
  },
  {
   "cell_type": "code",
   "execution_count": 23,
   "metadata": {},
   "outputs": [],
   "source": [
    "linksmall['imdbId'] = 'tt' + linksmall['imdbId']\n",
    "linksmall = linksmall.set_index('movieId')\n",
    "\n",
    "linklarge['imdbId'] = 'tt' + linklarge['imdbId']\n",
    "linklarge = linklarge.set_index('movieId')"
   ]
  },
  {
   "cell_type": "code",
   "execution_count": 24,
   "metadata": {},
   "outputs": [],
   "source": [
    "with open('movieLinkSmall.pickle', 'wb') as f:\n",
    "    # Dump the dictionary into the file using pickle\n",
    "    pickle.dump(linksmall.to_dict()['imdbId'], f)\n",
    "\n",
    "with open('movieLinkLarge.pickle', 'wb') as f:\n",
    "    # Dump the dictionary into the file using pickle\n",
    "    pickle.dump(linklarge.to_dict()['imdbId'], f)"
   ]
  },
  {
   "cell_type": "code",
   "execution_count": 25,
   "metadata": {},
   "outputs": [],
   "source": [
    "with open('./pickles/movieLinkSmall.pickle', 'rb') as f:\n",
    "    # Load the dictionary from the file using pickle\n",
    "    movieLinkSmall = pickle.load(f)\n",
    "\n",
    "with open('./pickles/movieLinkLarge.pickle', 'rb') as f:\n",
    "    # Load the dictionary from the file using pickle\n",
    "    movieLinkLarge = pickle.load(f)"
   ]
  },
  {
   "cell_type": "code",
   "execution_count": 27,
   "metadata": {},
   "outputs": [
    {
     "data": {
      "text/plain": [
       "9742"
      ]
     },
     "execution_count": 27,
     "metadata": {},
     "output_type": "execute_result"
    }
   ],
   "source": [
    "len(movieLinkSmall)"
   ]
  },
  {
   "cell_type": "code",
   "execution_count": 30,
   "metadata": {},
   "outputs": [
    {
     "data": {
      "text/plain": [
       "58098"
      ]
     },
     "execution_count": 30,
     "metadata": {},
     "output_type": "execute_result"
    }
   ],
   "source": [
    "len(movieLinkLarge)"
   ]
  },
  {
   "cell_type": "code",
   "execution_count": null,
   "metadata": {},
   "outputs": [],
   "source": []
  }
 ],
 "metadata": {
  "kernelspec": {
   "display_name": "Python 3",
   "language": "python",
   "name": "python3"
  },
  "language_info": {
   "codemirror_mode": {
    "name": "ipython",
    "version": 3
   },
   "file_extension": ".py",
   "mimetype": "text/x-python",
   "name": "python",
   "nbconvert_exporter": "python",
   "pygments_lexer": "ipython3",
   "version": "3.11.3"
  },
  "orig_nbformat": 4
 },
 "nbformat": 4,
 "nbformat_minor": 2
}

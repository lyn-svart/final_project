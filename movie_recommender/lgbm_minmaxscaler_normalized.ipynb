{
 "cells": [
  {
   "cell_type": "code",
   "execution_count": 1,
   "metadata": {},
   "outputs": [],
   "source": [
    "import pandas as pd\n",
    "import matplotlib.pyplot as plt \n",
    "import numpy as np\n",
    "import seaborn as sns\n",
    "import csv\n",
    "from sklearn.metrics import r2_score\n",
    "from datetime import datetime\n",
    "from sklearn import preprocessing\n",
    "from sklearn.model_selection import KFold\n",
    "from sklearn.linear_model import LinearRegression\n",
    "from sklearn.model_selection import cross_val_score\n",
    "from sklearn.model_selection import train_test_split \n",
    "from sklearn.ensemble import GradientBoostingRegressor \n",
    "from sklearn.model_selection import RandomizedSearchCV  \n",
    "from numpy.random import RandomState\n",
    "from sklearn.metrics import r2_score\n",
    "from lightgbm import LGBMRegressor "
   ]
  },
  {
   "cell_type": "code",
   "execution_count": 2,
   "metadata": {},
   "outputs": [],
   "source": [
    "df_for_lightgbm = pd.read_parquet('lgbmdf.parquet')"
   ]
  },
  {
   "cell_type": "code",
   "execution_count": 3,
   "metadata": {},
   "outputs": [],
   "source": [
    "#title, '(no genres listed)', 'userId' featureları çıkartıldı?!?!\n",
    "df_for_lightgbm = df_for_lightgbm[df_for_lightgbm.columns.difference(['title', '(no genres listed)', 'userId'])].copy()\n",
    "column_names = df_for_lightgbm.columns"
   ]
  },
  {
   "cell_type": "code",
   "execution_count": 4,
   "metadata": {},
   "outputs": [
    {
     "data": {
      "text/html": [
       "<div>\n",
       "<style scoped>\n",
       "    .dataframe tbody tr th:only-of-type {\n",
       "        vertical-align: middle;\n",
       "    }\n",
       "\n",
       "    .dataframe tbody tr th {\n",
       "        vertical-align: top;\n",
       "    }\n",
       "\n",
       "    .dataframe thead th {\n",
       "        text-align: right;\n",
       "    }\n",
       "</style>\n",
       "<table border=\"1\" class=\"dataframe\">\n",
       "  <thead>\n",
       "    <tr style=\"text-align: right;\">\n",
       "      <th></th>\n",
       "      <th>Action</th>\n",
       "      <th>Adventure</th>\n",
       "      <th>Animation</th>\n",
       "      <th>Children</th>\n",
       "      <th>Comedy</th>\n",
       "      <th>Crime</th>\n",
       "      <th>Documentary</th>\n",
       "      <th>Drama</th>\n",
       "      <th>Fantasy</th>\n",
       "      <th>Film-Noir</th>\n",
       "      <th>...</th>\n",
       "      <th>Musical</th>\n",
       "      <th>Mystery</th>\n",
       "      <th>Romance</th>\n",
       "      <th>Sci-Fi</th>\n",
       "      <th>Thriller</th>\n",
       "      <th>War</th>\n",
       "      <th>Western</th>\n",
       "      <th>movieId</th>\n",
       "      <th>movie_year</th>\n",
       "      <th>rating</th>\n",
       "    </tr>\n",
       "  </thead>\n",
       "  <tbody>\n",
       "    <tr>\n",
       "      <th>0</th>\n",
       "      <td>0.0</td>\n",
       "      <td>1.0</td>\n",
       "      <td>1.0</td>\n",
       "      <td>1.0</td>\n",
       "      <td>1.0</td>\n",
       "      <td>0.0</td>\n",
       "      <td>0.0</td>\n",
       "      <td>0.0</td>\n",
       "      <td>1.0</td>\n",
       "      <td>0.0</td>\n",
       "      <td>...</td>\n",
       "      <td>0.0</td>\n",
       "      <td>0.0</td>\n",
       "      <td>0.0</td>\n",
       "      <td>0.0</td>\n",
       "      <td>0.0</td>\n",
       "      <td>0.0</td>\n",
       "      <td>0.0</td>\n",
       "      <td>0.0</td>\n",
       "      <td>0.840278</td>\n",
       "      <td>0.777778</td>\n",
       "    </tr>\n",
       "    <tr>\n",
       "      <th>1</th>\n",
       "      <td>0.0</td>\n",
       "      <td>1.0</td>\n",
       "      <td>1.0</td>\n",
       "      <td>1.0</td>\n",
       "      <td>1.0</td>\n",
       "      <td>0.0</td>\n",
       "      <td>0.0</td>\n",
       "      <td>0.0</td>\n",
       "      <td>1.0</td>\n",
       "      <td>0.0</td>\n",
       "      <td>...</td>\n",
       "      <td>0.0</td>\n",
       "      <td>0.0</td>\n",
       "      <td>0.0</td>\n",
       "      <td>0.0</td>\n",
       "      <td>0.0</td>\n",
       "      <td>0.0</td>\n",
       "      <td>0.0</td>\n",
       "      <td>0.0</td>\n",
       "      <td>0.840278</td>\n",
       "      <td>1.000000</td>\n",
       "    </tr>\n",
       "    <tr>\n",
       "      <th>2</th>\n",
       "      <td>0.0</td>\n",
       "      <td>1.0</td>\n",
       "      <td>1.0</td>\n",
       "      <td>1.0</td>\n",
       "      <td>1.0</td>\n",
       "      <td>0.0</td>\n",
       "      <td>0.0</td>\n",
       "      <td>0.0</td>\n",
       "      <td>1.0</td>\n",
       "      <td>0.0</td>\n",
       "      <td>...</td>\n",
       "      <td>0.0</td>\n",
       "      <td>0.0</td>\n",
       "      <td>0.0</td>\n",
       "      <td>0.0</td>\n",
       "      <td>0.0</td>\n",
       "      <td>0.0</td>\n",
       "      <td>0.0</td>\n",
       "      <td>0.0</td>\n",
       "      <td>0.840278</td>\n",
       "      <td>0.888889</td>\n",
       "    </tr>\n",
       "    <tr>\n",
       "      <th>3</th>\n",
       "      <td>0.0</td>\n",
       "      <td>1.0</td>\n",
       "      <td>1.0</td>\n",
       "      <td>1.0</td>\n",
       "      <td>1.0</td>\n",
       "      <td>0.0</td>\n",
       "      <td>0.0</td>\n",
       "      <td>0.0</td>\n",
       "      <td>1.0</td>\n",
       "      <td>0.0</td>\n",
       "      <td>...</td>\n",
       "      <td>0.0</td>\n",
       "      <td>0.0</td>\n",
       "      <td>0.0</td>\n",
       "      <td>0.0</td>\n",
       "      <td>0.0</td>\n",
       "      <td>0.0</td>\n",
       "      <td>0.0</td>\n",
       "      <td>0.0</td>\n",
       "      <td>0.840278</td>\n",
       "      <td>0.777778</td>\n",
       "    </tr>\n",
       "    <tr>\n",
       "      <th>4</th>\n",
       "      <td>0.0</td>\n",
       "      <td>1.0</td>\n",
       "      <td>1.0</td>\n",
       "      <td>1.0</td>\n",
       "      <td>1.0</td>\n",
       "      <td>0.0</td>\n",
       "      <td>0.0</td>\n",
       "      <td>0.0</td>\n",
       "      <td>1.0</td>\n",
       "      <td>0.0</td>\n",
       "      <td>...</td>\n",
       "      <td>0.0</td>\n",
       "      <td>0.0</td>\n",
       "      <td>0.0</td>\n",
       "      <td>0.0</td>\n",
       "      <td>0.0</td>\n",
       "      <td>0.0</td>\n",
       "      <td>0.0</td>\n",
       "      <td>0.0</td>\n",
       "      <td>0.840278</td>\n",
       "      <td>0.777778</td>\n",
       "    </tr>\n",
       "  </tbody>\n",
       "</table>\n",
       "<p>5 rows × 22 columns</p>\n",
       "</div>"
      ],
      "text/plain": [
       "   Action  Adventure  Animation  Children  Comedy  Crime  Documentary  Drama  \\\n",
       "0     0.0        1.0        1.0       1.0     1.0    0.0          0.0    0.0   \n",
       "1     0.0        1.0        1.0       1.0     1.0    0.0          0.0    0.0   \n",
       "2     0.0        1.0        1.0       1.0     1.0    0.0          0.0    0.0   \n",
       "3     0.0        1.0        1.0       1.0     1.0    0.0          0.0    0.0   \n",
       "4     0.0        1.0        1.0       1.0     1.0    0.0          0.0    0.0   \n",
       "\n",
       "   Fantasy  Film-Noir  ...  Musical  Mystery  Romance  Sci-Fi  Thriller  War  \\\n",
       "0      1.0        0.0  ...      0.0      0.0      0.0     0.0       0.0  0.0   \n",
       "1      1.0        0.0  ...      0.0      0.0      0.0     0.0       0.0  0.0   \n",
       "2      1.0        0.0  ...      0.0      0.0      0.0     0.0       0.0  0.0   \n",
       "3      1.0        0.0  ...      0.0      0.0      0.0     0.0       0.0  0.0   \n",
       "4      1.0        0.0  ...      0.0      0.0      0.0     0.0       0.0  0.0   \n",
       "\n",
       "   Western  movieId  movie_year    rating  \n",
       "0      0.0      0.0    0.840278  0.777778  \n",
       "1      0.0      0.0    0.840278  1.000000  \n",
       "2      0.0      0.0    0.840278  0.888889  \n",
       "3      0.0      0.0    0.840278  0.777778  \n",
       "4      0.0      0.0    0.840278  0.777778  \n",
       "\n",
       "[5 rows x 22 columns]"
      ]
     },
     "execution_count": 4,
     "metadata": {},
     "output_type": "execute_result"
    }
   ],
   "source": [
    "scaler = preprocessing.MinMaxScaler(feature_range=(0, 1))\n",
    "df_for_lightgbm_normalized = scaler.fit_transform(df_for_lightgbm)\n",
    "df_for_lightgbm_normalized = pd.DataFrame(df_for_lightgbm_normalized,columns = column_names)\n",
    "df_for_lightgbm_normalized.head(5)"
   ]
  },
  {
   "cell_type": "code",
   "execution_count": 5,
   "metadata": {},
   "outputs": [],
   "source": [
    "X = df_for_lightgbm_normalized[df_for_lightgbm_normalized.columns.difference(['rating'])]\n",
    "y = df_for_lightgbm_normalized['rating']"
   ]
  },
  {
   "cell_type": "code",
   "execution_count": 6,
   "metadata": {},
   "outputs": [],
   "source": [
    "X_train, X_test, y_train, y_test = train_test_split(X, y, test_size=0.2, random_state=31)\n",
    "X_train, X_validation, y_train, y_validation = train_test_split(X_train, y_train, test_size=0.2, random_state=31)"
   ]
  },
  {
   "cell_type": "code",
   "execution_count": 7,
   "metadata": {},
   "outputs": [
    {
     "data": {
      "text/plain": [
       "{'num_leaves': 16, 'n_estimators': 817, 'max_depth': 6, 'learning_rate': 0.1}"
      ]
     },
     "execution_count": 7,
     "metadata": {},
     "output_type": "execute_result"
    }
   ],
   "source": [
    "\"\"\"randomstate = RandomState(66)\n",
    "\n",
    "# lgbm_optimization_parameters\n",
    "max_depth = randomstate.randint(2,15, size=4)\n",
    "num_leaves = [2, 4, 8, 16]\n",
    "n_estimators = randomstate.randint(100,1000, size=4)\n",
    "learning_rate = [0.1, 0.2, 0.4]\n",
    "\n",
    "lgbm_optimization_parameters = {    \n",
    "    'n_estimators' : n_estimators,\n",
    "    'max_depth': max_depth,\n",
    "    'num_leaves': num_leaves,\n",
    "    'learning_rate': learning_rate,}\n",
    "\n",
    "# lgbm_searcher \n",
    "lgbm = LGBMRegressor(random_state = 66)\n",
    "lgbm_searcher = RandomizedSearchCV(estimator = lgbm, \n",
    "                                  param_distributions = lgbm_optimization_parameters,\n",
    "                                  n_iter = 5,\n",
    "                                  random_state = 66)\n",
    "\n",
    "#lgbm_search \n",
    "lgbm_search = lgbm_searcher.fit(X_train, y_train)\n",
    "\n",
    "# Obtaining the best model from random search\n",
    "lgbm_regressor = lgbm_search.best_estimator_ \n",
    "lgbm_search.best_params_ \"\"\""
   ]
  },
  {
   "cell_type": "code",
   "execution_count": 8,
   "metadata": {},
   "outputs": [
    {
     "name": "stdout",
     "output_type": "stream",
     "text": [
      "0.13926956062739582\n"
     ]
    }
   ],
   "source": [
    "#61 dakika 10.4sn train süresi\n",
    "y_pred_lgbm = lgbm_regressor.predict(X_validation)\n",
    "R_square_lgbm = r2_score(y_validation, y_pred_lgbm) \n",
    "print(R_square_lgbm)"
   ]
  },
  {
   "cell_type": "code",
   "execution_count": 7,
   "metadata": {},
   "outputs": [],
   "source": [
    "import joblib\n",
    "# save model\n",
    "#joblib.dump(lgbm_search, 'lgb_minmax_scale.pkl')\n",
    "# load model\n",
    "gbm_pickle = joblib.load('lgb_minmax_scale.pkl')"
   ]
  },
  {
   "cell_type": "code",
   "execution_count": 8,
   "metadata": {},
   "outputs": [],
   "source": [
    "lgbm_regressor = gbm_pickle.best_estimator_"
   ]
  },
  {
   "cell_type": "code",
   "execution_count": 11,
   "metadata": {},
   "outputs": [
    {
     "name": "stdout",
     "output_type": "stream",
     "text": [
      "0.13926956062739582\n"
     ]
    }
   ],
   "source": [
    "y_pred_lgbm = lgbm_regressor.predict(X_validation)\n",
    "R_square_lgbm = r2_score(y_validation, y_pred_lgbm) \n",
    "print(R_square_lgbm)"
   ]
  },
  {
   "cell_type": "code",
   "execution_count": null,
   "metadata": {},
   "outputs": [],
   "source": []
  }
 ],
 "metadata": {
  "kernelspec": {
   "display_name": "Python 3",
   "language": "python",
   "name": "python3"
  },
  "language_info": {
   "codemirror_mode": {
    "name": "ipython",
    "version": 3
   },
   "file_extension": ".py",
   "mimetype": "text/x-python",
   "name": "python",
   "nbconvert_exporter": "python",
   "pygments_lexer": "ipython3",
   "version": "3.10.7"
  },
  "orig_nbformat": 4
 },
 "nbformat": 4,
 "nbformat_minor": 2
}

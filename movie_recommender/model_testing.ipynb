{
 "cells": [
  {
   "cell_type": "code",
   "execution_count": 1,
   "metadata": {},
   "outputs": [],
   "source": [
    "import numpy as np\n",
    "import numpy.ma as ma\n",
    "import pandas as pd\n",
    "import tensorflow as tf\n",
    "from tensorflow import keras\n",
    "from sklearn.preprocessing import StandardScaler, MinMaxScaler\n",
    "from sklearn.model_selection import train_test_split\n",
    "from collections import defaultdict\n",
    "import tabulate\n",
    "import csv\n",
    "import pickle\n",
    "from numpy import genfromtxt\n",
    "from recsysNN_utils import *"
   ]
  },
  {
   "cell_type": "code",
   "execution_count": 2,
   "metadata": {},
   "outputs": [],
   "source": [
    "x_user = pd.read_csv(\"x_user.csv\")\n",
    "x_item = pd.read_csv(\"x_item.csv\")\n",
    "y = pd.read_csv(\"y.csv\")\n",
    "\n",
    "with open('umr_dict.pickle', 'rb') as f:\n",
    "    # Load the dictionary from the file using pickle\n",
    "    umr_dict = pickle.load(f)\n"
   ]
  },
  {
   "cell_type": "code",
   "execution_count": 3,
   "metadata": {},
   "outputs": [],
   "source": [
    "movie_dict = defaultdict(dict)\n",
    "count = 0\n",
    "with open('csv/small/movie_list.csv', newline='',encoding=\"utf8\") as csvfile:\n",
    "        reader = csv.reader(csvfile, delimiter=',', quotechar='\"')\n",
    "        for line in reader:\n",
    "            if count == 0:\n",
    "                count += 1  #skip header\n",
    "                #print(line) print\n",
    "            else:\n",
    "                count += 1\n",
    "                movie_id = int(line[0])\n",
    "                movie_dict[movie_id][\"title\"] = line[1]\n",
    "                movie_dict[movie_id][\"genres\"] = line[2]"
   ]
  },
  {
   "cell_type": "code",
   "execution_count": 4,
   "metadata": {},
   "outputs": [
    {
     "name": "stdout",
     "output_type": "stream",
     "text": [
      "train_user shape:(5630130, 17)\n",
      "train_item shape:(5630130, 17)\n",
      "y_train shape:(5630130, 1)\n"
     ]
    }
   ],
   "source": [
    "print(f'train_user shape:{x_user.shape}')\n",
    "print(f'train_item shape:{x_item.shape}')\n",
    "print(f'y_train shape:{y.shape}')"
   ]
  },
  {
   "cell_type": "code",
   "execution_count": 5,
   "metadata": {},
   "outputs": [
    {
     "name": "stdout",
     "output_type": "stream",
     "text": [
      "True\n",
      "True\n"
     ]
    }
   ],
   "source": [
    "# scale training data\n",
    "unscaled_train_item = x_item\n",
    "unscaled_train_user = x_user\n",
    "y_train_unscaled    = y\n",
    "\n",
    "scalerItem = StandardScaler()#scalerItem = StandardScaler()\n",
    "scalerItem.fit(x_item)#scalerItem.fit(item_train)\n",
    "x_item = scalerItem.transform(x_item)#item_train = scalerItem.transform(item_train)\n",
    "\n",
    "scalerUser = StandardScaler()#scalerUser = StandardScaler()\n",
    "scalerUser.fit(x_user)#scalerUser.fit(user_train)\n",
    "x_user = scalerUser.transform(x_user)#user_train = scalerUser.transform(user_train)\n",
    "\n",
    "scalerTarget = MinMaxScaler((-1, 1))#scalerTarget = MinMaxScaler((-1, 1))\n",
    "scalerTarget.fit(y.values.reshape(-1, 1))#scalerTarget.fit(y_train.reshape(-1, 1))\n",
    "y_train = scalerTarget.transform(y.values.reshape(-1, 1))#y_train = scalerTarget.transform(y_train.reshape(-1, 1))\n",
    "#ynorm_test = scalerTarget.transform(y_test.reshape(-1, 1))\n",
    "\n",
    "print(np.allclose(unscaled_train_item, scalerItem.inverse_transform(x_item)))\n",
    "print(np.allclose(unscaled_train_user, scalerUser.inverse_transform(x_user)))"
   ]
  },
  {
   "cell_type": "code",
   "execution_count": 6,
   "metadata": {},
   "outputs": [
    {
     "name": "stdout",
     "output_type": "stream",
     "text": [
      "movie/item training data shape: (4504104, 17)\n",
      "movie/item test data shape: (1126026, 17)\n",
      "movie/user training data shape: (4504104, 17)\n",
      "movie/user test data shape: (1126026, 17)\n"
     ]
    }
   ],
   "source": [
    "x_train_item, item_test = train_test_split(x_item, train_size=0.80, shuffle=True, random_state=1)\n",
    "x_train_user, user_test = train_test_split(x_user, train_size=0.80, shuffle=True, random_state=1)\n",
    "y_train, y_test       = train_test_split(y_train,    train_size=0.80, shuffle=True, random_state=1)\n",
    "print(f\"movie/item training data shape: {x_train_item.shape}\")\n",
    "print(f\"movie/item test data shape: {item_test.shape}\")\n",
    "print(f\"movie/user training data shape: {x_train_user.shape}\")\n",
    "print(f\"movie/user test data shape: {user_test.shape}\")"
   ]
  },
  {
   "cell_type": "code",
   "execution_count": 7,
   "metadata": {},
   "outputs": [],
   "source": [
    "num_user_features = x_train_user.shape[1] - 3\n",
    "num_item_features = x_train_item.shape[1] - 1\n",
    "uvs = 3  # user genre vector start\n",
    "ivs = 3  # item genre vector start\n",
    "u_s = 3  # start of columns to use in training, user\n",
    "i_s = 1  # start of columns to use in training, items"
   ]
  },
  {
   "cell_type": "code",
   "execution_count": 8,
   "metadata": {},
   "outputs": [],
   "source": [
    "with open('nn_model_23_05.pickle', 'rb') as f:\n",
    "    model = pickle.load(f)"
   ]
  },
  {
   "cell_type": "code",
   "execution_count": 9,
   "metadata": {},
   "outputs": [],
   "source": [
    "#model.evaluate([user_test[:, u_s:], item_test[:, i_s:]], y_test)"
   ]
  },
  {
   "cell_type": "code",
   "execution_count": 14,
   "metadata": {},
   "outputs": [],
   "source": [
    "new_user_id = 5000\n",
    "new_rating_ave = 3.5\n",
    "new_action = 4.5\n",
    "new_adventure = 4.0\n",
    "new_animation = 1.0\n",
    "new_childrens = 0.0\n",
    "new_comedy = 4.5\n",
    "new_crime = 2.0\n",
    "new_documentary = 1.0\n",
    "new_drama = 4.5\n",
    "new_fantasy = 3.5\n",
    "new_horror = 1.0\n",
    "new_mystery = 2.5\n",
    "new_romance = 2.5\n",
    "new_scifi = 4.0\n",
    "new_thriller = 3.0\n",
    "new_rating_count = 100\n",
    "#user id,rating count,rating ave,Action,Adventure,Animation,Children,Comedy,Crime,Documentary,Drama,Fantasy,***film-noir**Horror,**imax**,***musical***Mystery,Romance,Sci-Fi,Thriller***war***,***western***\n",
    "\n",
    "user_vec = np.array([[new_user_id, new_rating_count, new_rating_ave,\n",
    "                      new_action, new_adventure, new_animation, new_childrens,\n",
    "                      new_comedy, new_crime, new_documentary,\n",
    "                      new_drama, new_fantasy, new_horror, new_mystery,\n",
    "                      new_romance, new_scifi, new_thriller]])"
   ]
  },
  {
   "cell_type": "code",
   "execution_count": 15,
   "metadata": {},
   "outputs": [],
   "source": [
    "item_vecs = genfromtxt('item_vecs.csv', delimiter=',')"
   ]
  },
  {
   "cell_type": "code",
   "execution_count": 16,
   "metadata": {},
   "outputs": [
    {
     "name": "stderr",
     "output_type": "stream",
     "text": [
      "c:\\Users\\Burak\\AppData\\Local\\Programs\\Python\\Python311\\Lib\\site-packages\\sklearn\\base.py:439: UserWarning: X does not have valid feature names, but StandardScaler was fitted with feature names\n",
      "  warnings.warn(\n",
      "c:\\Users\\Burak\\AppData\\Local\\Programs\\Python\\Python311\\Lib\\site-packages\\sklearn\\base.py:439: UserWarning: X does not have valid feature names, but StandardScaler was fitted with feature names\n",
      "  warnings.warn(\n"
     ]
    },
    {
     "name": "stdout",
     "output_type": "stream",
     "text": [
      "27/27 [==============================] - 0s 3ms/step\n"
     ]
    },
    {
     "data": {
      "text/html": [
       "<table>\n",
       "<thead>\n",
       "<tr><th style=\"text-align: right;\">  y_p</th><th style=\"text-align: right;\">  movie id</th><th style=\"text-align: right;\">  rating ave</th><th>title                                            </th><th>genres                                        </th></tr>\n",
       "</thead>\n",
       "<tbody>\n",
       "<tr><td style=\"text-align: right;\">  4.7</td><td style=\"text-align: right;\">      8665</td><td style=\"text-align: right;\">         3.8</td><td>Bourne Supremacy, The (2004)                     </td><td>Action|Crime|Thriller                         </td></tr>\n",
       "<tr><td style=\"text-align: right;\">  4.6</td><td style=\"text-align: right;\">     30707</td><td style=\"text-align: right;\">         3.8</td><td>Million Dollar Baby (2004)                       </td><td>Drama                                         </td></tr>\n",
       "<tr><td style=\"text-align: right;\">  4.6</td><td style=\"text-align: right;\">     91542</td><td style=\"text-align: right;\">         3.8</td><td>Sherlock Holmes: A Game of Shadows (2011)        </td><td>Action|Adventure|Comedy|Crime|Mystery|Thriller</td></tr>\n",
       "<tr><td style=\"text-align: right;\">  4.6</td><td style=\"text-align: right;\">     54286</td><td style=\"text-align: right;\">         3.7</td><td>Bourne Ultimatum, The (2007)                     </td><td>Action|Crime|Thriller                         </td></tr>\n",
       "<tr><td style=\"text-align: right;\">  4.5</td><td style=\"text-align: right;\">    134130</td><td style=\"text-align: right;\">         4  </td><td>The Martian (2015)                               </td><td>Adventure|Drama|Sci-Fi                        </td></tr>\n",
       "<tr><td style=\"text-align: right;\">  4.5</td><td style=\"text-align: right;\">      1210</td><td style=\"text-align: right;\">         4.1</td><td>Star Wars: Episode VI - Return of the Jedi (1983)</td><td>Action|Adventure|Sci-Fi                       </td></tr>\n",
       "<tr><td style=\"text-align: right;\">  4.5</td><td style=\"text-align: right;\">      3578</td><td style=\"text-align: right;\">         3.9</td><td>Gladiator (2000)                                 </td><td>Action|Adventure|Drama                        </td></tr>\n",
       "<tr><td style=\"text-align: right;\">  4.5</td><td style=\"text-align: right;\">     73017</td><td style=\"text-align: right;\">         3.9</td><td>Sherlock Holmes (2009)                           </td><td>Action|Crime|Mystery|Thriller                 </td></tr>\n",
       "<tr><td style=\"text-align: right;\">  4.5</td><td style=\"text-align: right;\">      2329</td><td style=\"text-align: right;\">         4.2</td><td>American History X (1998)                        </td><td>Crime|Drama                                   </td></tr>\n",
       "<tr><td style=\"text-align: right;\">  4.5</td><td style=\"text-align: right;\">     52973</td><td style=\"text-align: right;\">         3.7</td><td>Knocked Up (2007)                                </td><td>Comedy|Drama|Romance                          </td></tr>\n",
       "<tr><td style=\"text-align: right;\">  4.5</td><td style=\"text-align: right;\">     34162</td><td style=\"text-align: right;\">         3.5</td><td>Wedding Crashers (2005)                          </td><td>Comedy|Romance                                </td></tr>\n",
       "<tr><td style=\"text-align: right;\">  4.5</td><td style=\"text-align: right;\">      5418</td><td style=\"text-align: right;\">         3.8</td><td>Bourne Identity, The (2002)                      </td><td>Action|Mystery|Thriller                       </td></tr>\n",
       "<tr><td style=\"text-align: right;\">  4.5</td><td style=\"text-align: right;\">     33794</td><td style=\"text-align: right;\">         3.9</td><td>Batman Begins (2005)                             </td><td>Action|Crime|IMAX                             </td></tr>\n",
       "<tr><td style=\"text-align: right;\">  4.5</td><td style=\"text-align: right;\">     35836</td><td style=\"text-align: right;\">         3.5</td><td>40-Year-Old Virgin, The (2005)                   </td><td>Comedy|Romance                                </td></tr>\n",
       "<tr><td style=\"text-align: right;\">  4.4</td><td style=\"text-align: right;\">     58559</td><td style=\"text-align: right;\">         4.2</td><td>Dark Knight, The (2008)                          </td><td>Action|Crime|Drama|IMAX                       </td></tr>\n",
       "<tr><td style=\"text-align: right;\">  4.4</td><td style=\"text-align: right;\">     31696</td><td style=\"text-align: right;\">         3.5</td><td>Constantine (2005)                               </td><td>Action|Fantasy|Horror|Thriller                </td></tr>\n",
       "<tr><td style=\"text-align: right;\">  4.4</td><td style=\"text-align: right;\">     30749</td><td style=\"text-align: right;\">         3.8</td><td>Hotel Rwanda (2004)                              </td><td>Drama|War                                     </td></tr>\n",
       "<tr><td style=\"text-align: right;\">  4.4</td><td style=\"text-align: right;\">     91500</td><td style=\"text-align: right;\">         3.4</td><td>The Hunger Games (2012)                          </td><td>Action|Adventure|Drama|Sci-Fi|Thriller        </td></tr>\n",
       "<tr><td style=\"text-align: right;\">  4.4</td><td style=\"text-align: right;\">     63082</td><td style=\"text-align: right;\">         3.8</td><td>Slumdog Millionaire (2008)                       </td><td>Crime|Drama|Romance                           </td></tr>\n",
       "<tr><td style=\"text-align: right;\">  4.4</td><td style=\"text-align: right;\">     41569</td><td style=\"text-align: right;\">         3.4</td><td>King Kong (2005)                                 </td><td>Action|Adventure|Drama|Fantasy|Thriller       </td></tr>\n",
       "</tbody>\n",
       "</table>"
      ],
      "text/plain": [
       "'<table>\\n<thead>\\n<tr><th style=\"text-align: right;\">  y_p</th><th style=\"text-align: right;\">  movie id</th><th style=\"text-align: right;\">  rating ave</th><th>title                                            </th><th>genres                                        </th></tr>\\n</thead>\\n<tbody>\\n<tr><td style=\"text-align: right;\">  4.7</td><td style=\"text-align: right;\">      8665</td><td style=\"text-align: right;\">         3.8</td><td>Bourne Supremacy, The (2004)                     </td><td>Action|Crime|Thriller                         </td></tr>\\n<tr><td style=\"text-align: right;\">  4.6</td><td style=\"text-align: right;\">     30707</td><td style=\"text-align: right;\">         3.8</td><td>Million Dollar Baby (2004)                       </td><td>Drama                                         </td></tr>\\n<tr><td style=\"text-align: right;\">  4.6</td><td style=\"text-align: right;\">     91542</td><td style=\"text-align: right;\">         3.8</td><td>Sherlock Holmes: A Game of Shadows (2011)        </td><td>Action|Adventure|Comedy|Crime|Mystery|Thriller</td></tr>\\n<tr><td style=\"text-align: right;\">  4.6</td><td style=\"text-align: right;\">     54286</td><td style=\"text-align: right;\">         3.7</td><td>Bourne Ultimatum, The (2007)                     </td><td>Action|Crime|Thriller                         </td></tr>\\n<tr><td style=\"text-align: right;\">  4.5</td><td style=\"text-align: right;\">    134130</td><td style=\"text-align: right;\">         4  </td><td>The Martian (2015)                               </td><td>Adventure|Drama|Sci-Fi                        </td></tr>\\n<tr><td style=\"text-align: right;\">  4.5</td><td style=\"text-align: right;\">      1210</td><td style=\"text-align: right;\">         4.1</td><td>Star Wars: Episode VI - Return of the Jedi (1983)</td><td>Action|Adventure|Sci-Fi                       </td></tr>\\n<tr><td style=\"text-align: right;\">  4.5</td><td style=\"text-align: right;\">      3578</td><td style=\"text-align: right;\">         3.9</td><td>Gladiator (2000)                                 </td><td>Action|Adventure|Drama                        </td></tr>\\n<tr><td style=\"text-align: right;\">  4.5</td><td style=\"text-align: right;\">     73017</td><td style=\"text-align: right;\">         3.9</td><td>Sherlock Holmes (2009)                           </td><td>Action|Crime|Mystery|Thriller                 </td></tr>\\n<tr><td style=\"text-align: right;\">  4.5</td><td style=\"text-align: right;\">      2329</td><td style=\"text-align: right;\">         4.2</td><td>American History X (1998)                        </td><td>Crime|Drama                                   </td></tr>\\n<tr><td style=\"text-align: right;\">  4.5</td><td style=\"text-align: right;\">     52973</td><td style=\"text-align: right;\">         3.7</td><td>Knocked Up (2007)                                </td><td>Comedy|Drama|Romance                          </td></tr>\\n<tr><td style=\"text-align: right;\">  4.5</td><td style=\"text-align: right;\">     34162</td><td style=\"text-align: right;\">         3.5</td><td>Wedding Crashers (2005)                          </td><td>Comedy|Romance                                </td></tr>\\n<tr><td style=\"text-align: right;\">  4.5</td><td style=\"text-align: right;\">      5418</td><td style=\"text-align: right;\">         3.8</td><td>Bourne Identity, The (2002)                      </td><td>Action|Mystery|Thriller                       </td></tr>\\n<tr><td style=\"text-align: right;\">  4.5</td><td style=\"text-align: right;\">     33794</td><td style=\"text-align: right;\">         3.9</td><td>Batman Begins (2005)                             </td><td>Action|Crime|IMAX                             </td></tr>\\n<tr><td style=\"text-align: right;\">  4.5</td><td style=\"text-align: right;\">     35836</td><td style=\"text-align: right;\">         3.5</td><td>40-Year-Old Virgin, The (2005)                   </td><td>Comedy|Romance                                </td></tr>\\n<tr><td style=\"text-align: right;\">  4.4</td><td style=\"text-align: right;\">     58559</td><td style=\"text-align: right;\">         4.2</td><td>Dark Knight, The (2008)                          </td><td>Action|Crime|Drama|IMAX                       </td></tr>\\n<tr><td style=\"text-align: right;\">  4.4</td><td style=\"text-align: right;\">     31696</td><td style=\"text-align: right;\">         3.5</td><td>Constantine (2005)                               </td><td>Action|Fantasy|Horror|Thriller                </td></tr>\\n<tr><td style=\"text-align: right;\">  4.4</td><td style=\"text-align: right;\">     30749</td><td style=\"text-align: right;\">         3.8</td><td>Hotel Rwanda (2004)                              </td><td>Drama|War                                     </td></tr>\\n<tr><td style=\"text-align: right;\">  4.4</td><td style=\"text-align: right;\">     91500</td><td style=\"text-align: right;\">         3.4</td><td>The Hunger Games (2012)                          </td><td>Action|Adventure|Drama|Sci-Fi|Thriller        </td></tr>\\n<tr><td style=\"text-align: right;\">  4.4</td><td style=\"text-align: right;\">     63082</td><td style=\"text-align: right;\">         3.8</td><td>Slumdog Millionaire (2008)                       </td><td>Crime|Drama|Romance                           </td></tr>\\n<tr><td style=\"text-align: right;\">  4.4</td><td style=\"text-align: right;\">     41569</td><td style=\"text-align: right;\">         3.4</td><td>King Kong (2005)                                 </td><td>Action|Adventure|Drama|Fantasy|Thriller       </td></tr>\\n</tbody>\\n</table>'"
      ]
     },
     "execution_count": 16,
     "metadata": {},
     "output_type": "execute_result"
    }
   ],
   "source": [
    "# generate and replicate the user vector to match the number movies in the data set.\n",
    "user_vecs = gen_user_vecs(user_vec,len(item_vecs))\n",
    "\n",
    "# scale our user and item vectors\n",
    "suser_vecs = scalerUser.transform(user_vecs)\n",
    "sitem_vecs = scalerItem.transform(item_vecs)\n",
    "\n",
    "# make a prediction\n",
    "y_p = model.predict([suser_vecs[:, u_s:], sitem_vecs[:, i_s:]])\n",
    "\n",
    "# unscale y prediction \n",
    "y_pu = scalerTarget.inverse_transform(y_p)\n",
    "\n",
    "# sort the results, highest prediction first\n",
    "sorted_index = np.argsort(-y_pu,axis=0).reshape(-1).tolist()  #negate to get largest rating first\n",
    "sorted_ypu   = y_pu[sorted_index]\n",
    "sorted_items = item_vecs[sorted_index]  #using unscaled vectors for display\n",
    "\n",
    "print_pred_movies(sorted_ypu, sorted_items, movie_dict, maxcount = 20)"
   ]
  },
  {
   "cell_type": "code",
   "execution_count": 13,
   "metadata": {},
   "outputs": [
    {
     "name": "stdout",
     "output_type": "stream",
     "text": [
      " 1/27 [>.............................] - ETA: 1s"
     ]
    },
    {
     "name": "stderr",
     "output_type": "stream",
     "text": [
      "c:\\Users\\Burak\\AppData\\Local\\Programs\\Python\\Python311\\Lib\\site-packages\\sklearn\\base.py:439: UserWarning: X does not have valid feature names, but StandardScaler was fitted with feature names\n",
      "  warnings.warn(\n",
      "c:\\Users\\Burak\\AppData\\Local\\Programs\\Python\\Python311\\Lib\\site-packages\\sklearn\\base.py:439: UserWarning: X does not have valid feature names, but StandardScaler was fitted with feature names\n",
      "  warnings.warn(\n"
     ]
    },
    {
     "name": "stdout",
     "output_type": "stream",
     "text": [
      "27/27 [==============================] - 0s 4ms/step\n"
     ]
    },
    {
     "data": {
      "text/html": [
       "<table>\n",
       "<thead>\n",
       "<tr><th style=\"text-align: right;\">  y_p</th><th style=\"text-align: right;\">  y</th><th style=\"text-align: right;\">  user</th><th>user genre ave       </th><th style=\"text-align: right;\">  movie rating ave</th><th style=\"text-align: right;\">  movie id</th><th>title                                                     </th><th>genres                                         </th></tr>\n",
       "</thead>\n",
       "<tbody>\n",
       "<tr><td style=\"text-align: right;\">  4.7</td><td style=\"text-align: right;\">5.0</td><td style=\"text-align: right;\">     5</td><td>[4.1,4.0,3.8,4.2]    </td><td style=\"text-align: right;\">               3.6</td><td style=\"text-align: right;\">       594</td><td>Snow White and the Seven Dwarfs (1937)                    </td><td>Animation|Children|Drama|Fantasy|Musical       </td></tr>\n",
       "<tr><td style=\"text-align: right;\">  4.3</td><td style=\"text-align: right;\">5.0</td><td style=\"text-align: right;\">     5</td><td>[4.1,4.0,4.2]        </td><td style=\"text-align: right;\">               3.5</td><td style=\"text-align: right;\">       596</td><td>Pinocchio (1940)                                          </td><td>Animation|Children|Fantasy|Musical             </td></tr>\n",
       "<tr><td style=\"text-align: right;\">  4.2</td><td style=\"text-align: right;\">5.0</td><td style=\"text-align: right;\">     5</td><td>[3.5,3.8,3.0]        </td><td style=\"text-align: right;\">               4.0</td><td style=\"text-align: right;\">        58</td><td>Postman, The (Postino, Il) (1994)                         </td><td>Comedy|Drama|Romance                           </td></tr>\n",
       "<tr><td style=\"text-align: right;\">  4.1</td><td style=\"text-align: right;\">4.0</td><td style=\"text-align: right;\">     5</td><td>[3.6,4.0,3.7]        </td><td style=\"text-align: right;\">               4.2</td><td style=\"text-align: right;\">        50</td><td>Usual Suspects, The (1995)                                </td><td>Crime|Mystery|Thriller                         </td></tr>\n",
       "<tr><td style=\"text-align: right;\">  4.1</td><td style=\"text-align: right;\">4.0</td><td style=\"text-align: right;\">     5</td><td>[4.0,3.8]            </td><td style=\"text-align: right;\">               3.7</td><td style=\"text-align: right;\">        34</td><td>Babe (1995)                                               </td><td>Children|Drama                                 </td></tr>\n",
       "<tr><td style=\"text-align: right;\">  4.1</td><td style=\"text-align: right;\">5.0</td><td style=\"text-align: right;\">     5</td><td>[3.8]                </td><td style=\"text-align: right;\">               4.2</td><td style=\"text-align: right;\">       527</td><td>Schindler&#x27;s List (1993)                                   </td><td>Drama|War                                      </td></tr>\n",
       "<tr><td style=\"text-align: right;\">  4.1</td><td style=\"text-align: right;\">4.0</td><td style=\"text-align: right;\">     5</td><td>[3.5,3.6,3.7]        </td><td style=\"text-align: right;\">               3.5</td><td style=\"text-align: right;\">        21</td><td>Get Shorty (1995)                                         </td><td>Comedy|Crime|Thriller                          </td></tr>\n",
       "<tr><td style=\"text-align: right;\">  4.0</td><td style=\"text-align: right;\">5.0</td><td style=\"text-align: right;\">     5</td><td>[3.5,3.6,3.8,3.7]    </td><td style=\"text-align: right;\">               4.2</td><td style=\"text-align: right;\">       296</td><td>Pulp Fiction (1994)                                       </td><td>Comedy|Crime|Drama|Thriller                    </td></tr>\n",
       "<tr><td style=\"text-align: right;\">  4.0</td><td style=\"text-align: right;\">4.0</td><td style=\"text-align: right;\">     5</td><td>[3.6,3.8]            </td><td style=\"text-align: right;\">               3.8</td><td style=\"text-align: right;\">        36</td><td>Dead Man Walking (1995)                                   </td><td>Crime|Drama                                    </td></tr>\n",
       "<tr><td style=\"text-align: right;\">  3.9</td><td style=\"text-align: right;\">3.0</td><td style=\"text-align: right;\">     5</td><td>[3.5,3.6,3.8,3.7]    </td><td style=\"text-align: right;\">               4.1</td><td style=\"text-align: right;\">       608</td><td>Fargo (1996)                                              </td><td>Comedy|Crime|Drama|Thriller                    </td></tr>\n",
       "<tr><td style=\"text-align: right;\">  3.9</td><td style=\"text-align: right;\">4.0</td><td style=\"text-align: right;\">     5</td><td>[3.3,4.1,4.0,3.5,4.2]</td><td style=\"text-align: right;\">               3.9</td><td style=\"text-align: right;\">         1</td><td>Toy Story (1995)                                          </td><td>Adventure|Animation|Children|Comedy|Fantasy    </td></tr>\n",
       "<tr><td style=\"text-align: right;\">  3.9</td><td style=\"text-align: right;\">5.0</td><td style=\"text-align: right;\">     5</td><td>[3.3,3.8]            </td><td style=\"text-align: right;\">               3.8</td><td style=\"text-align: right;\">       590</td><td>Dances with Wolves (1990)                                 </td><td>Adventure|Drama|Western                        </td></tr>\n",
       "<tr><td style=\"text-align: right;\">  3.8</td><td style=\"text-align: right;\">5.0</td><td style=\"text-align: right;\">     5</td><td>[4.1,4.0,4.2,3.0]    </td><td style=\"text-align: right;\">               3.8</td><td style=\"text-align: right;\">       595</td><td>Beauty and the Beast (1991)                               </td><td>Animation|Children|Fantasy|Musical|Romance|IMAX</td></tr>\n",
       "<tr><td style=\"text-align: right;\">  3.8</td><td style=\"text-align: right;\">4.0</td><td style=\"text-align: right;\">     5</td><td>[3.1,3.7]            </td><td style=\"text-align: right;\">               3.7</td><td style=\"text-align: right;\">       474</td><td>In the Line of Fire (1993)                                </td><td>Action|Thriller                                </td></tr>\n",
       "<tr><td style=\"text-align: right;\">  3.8</td><td style=\"text-align: right;\">3.0</td><td style=\"text-align: right;\">     5</td><td>[3.6,3.8]            </td><td style=\"text-align: right;\">               4.4</td><td style=\"text-align: right;\">       318</td><td>Shawshank Redemption, The (1994)                          </td><td>Crime|Drama                                    </td></tr>\n",
       "<tr><td style=\"text-align: right;\">  3.8</td><td style=\"text-align: right;\">4.0</td><td style=\"text-align: right;\">     5</td><td>[3.3,4.1,4.0,3.5]    </td><td style=\"text-align: right;\">               3.8</td><td style=\"text-align: right;\">       588</td><td>Aladdin (1992)                                            </td><td>Adventure|Animation|Children|Comedy|Musical    </td></tr>\n",
       "<tr><td style=\"text-align: right;\">  3.7</td><td style=\"text-align: right;\">2.0</td><td style=\"text-align: right;\">     5</td><td>[3.5,3.0]            </td><td style=\"text-align: right;\">               3.5</td><td style=\"text-align: right;\">       357</td><td>Four Weddings and a Funeral (1994)                        </td><td>Comedy|Romance                                 </td></tr>\n",
       "<tr><td style=\"text-align: right;\">  3.7</td><td style=\"text-align: right;\">3.0</td><td style=\"text-align: right;\">     5</td><td>[3.3,3.8]            </td><td style=\"text-align: right;\">               3.8</td><td style=\"text-align: right;\">       150</td><td>Apollo 13 (1995)                                          </td><td>Adventure|Drama|IMAX                           </td></tr>\n",
       "<tr><td style=\"text-align: right;\">  3.6</td><td style=\"text-align: right;\">4.0</td><td style=\"text-align: right;\">     5</td><td>[3.7]                </td><td style=\"text-align: right;\">               4.0</td><td style=\"text-align: right;\">       457</td><td>Fugitive, The (1993)                                      </td><td>Thriller                                       </td></tr>\n",
       "<tr><td style=\"text-align: right;\">  3.6</td><td style=\"text-align: right;\">3.0</td><td style=\"text-align: right;\">     5</td><td>[3.8,4.2,3.0]        </td><td style=\"text-align: right;\">               3.9</td><td style=\"text-align: right;\">       265</td><td>Like Water for Chocolate (Como agua para chocolate) (1992)</td><td>Drama|Fantasy|Romance                          </td></tr>\n",
       "<tr><td style=\"text-align: right;\">  3.5</td><td style=\"text-align: right;\">3.0</td><td style=\"text-align: right;\">     5</td><td>[3.3,4.1,4.0,3.8]    </td><td style=\"text-align: right;\">               3.9</td><td style=\"text-align: right;\">       364</td><td>Lion King, The (1994)                                     </td><td>Adventure|Animation|Children|Drama|Musical|IMAX</td></tr>\n",
       "<tr><td style=\"text-align: right;\">  3.5</td><td style=\"text-align: right;\">4.0</td><td style=\"text-align: right;\">     5</td><td>[3.1,3.5,3.6,4.2]    </td><td style=\"text-align: right;\">               3.2</td><td style=\"text-align: right;\">       367</td><td>Mask, The (1994)                                          </td><td>Action|Comedy|Crime|Fantasy                    </td></tr>\n",
       "<tr><td style=\"text-align: right;\">  3.4</td><td style=\"text-align: right;\">4.0</td><td style=\"text-align: right;\">     5</td><td>[3.8]                </td><td style=\"text-align: right;\">               3.9</td><td style=\"text-align: right;\">       261</td><td>Little Women (1994)                                       </td><td>Drama                                          </td></tr>\n",
       "<tr><td style=\"text-align: right;\">  3.3</td><td style=\"text-align: right;\">3.0</td><td style=\"text-align: right;\">     5</td><td>[3.1,2.6]            </td><td style=\"text-align: right;\">               4.0</td><td style=\"text-align: right;\">       589</td><td>Terminator 2: Judgment Day (1991)                         </td><td>Action|Sci-Fi                                  </td></tr>\n",
       "<tr><td style=\"text-align: right;\">  3.3</td><td style=\"text-align: right;\">3.0</td><td style=\"text-align: right;\">     5</td><td>[3.1,3.6,3.8,3.7]    </td><td style=\"text-align: right;\">               3.6</td><td style=\"text-align: right;\">       349</td><td>Clear and Present Danger (1994)                           </td><td>Action|Crime|Drama|Thriller                    </td></tr>\n",
       "<tr><td style=\"text-align: right;\">  3.2</td><td style=\"text-align: right;\">3.0</td><td style=\"text-align: right;\">     5</td><td>[3.8,3.0]            </td><td style=\"text-align: right;\">               3.5</td><td style=\"text-align: right;\">       253</td><td>Interview with the Vampire: The Vampire Chronicles (1994) </td><td>Drama|Horror                                   </td></tr>\n",
       "<tr><td style=\"text-align: right;\">  3.1</td><td style=\"text-align: right;\">4.0</td><td style=\"text-align: right;\">     5</td><td>[3.1,3.8]            </td><td style=\"text-align: right;\">               4.0</td><td style=\"text-align: right;\">       110</td><td>Braveheart (1995)                                         </td><td>Action|Drama|War                               </td></tr>\n",
       "<tr><td style=\"text-align: right;\">  3.0</td><td style=\"text-align: right;\">3.0</td><td style=\"text-align: right;\">     5</td><td>[3.5,3.0]            </td><td style=\"text-align: right;\">               3.5</td><td style=\"text-align: right;\">       597</td><td>Pretty Woman (1990)                                       </td><td>Comedy|Romance                                 </td></tr>\n",
       "<tr><td style=\"text-align: right;\">  3.0</td><td style=\"text-align: right;\">3.0</td><td style=\"text-align: right;\">     5</td><td>[3.8]                </td><td style=\"text-align: right;\">               3.5</td><td style=\"text-align: right;\">       300</td><td>Quiz Show (1994)                                          </td><td>Drama                                          </td></tr>\n",
       "<tr><td style=\"text-align: right;\">  3.0</td><td style=\"text-align: right;\">3.0</td><td style=\"text-align: right;\">     5</td><td>[3.1,3.3,3.5,3.6]    </td><td style=\"text-align: right;\">               2.9</td><td style=\"text-align: right;\">       153</td><td>Batman Forever (1995)                                     </td><td>Action|Adventure|Comedy|Crime                  </td></tr>\n",
       "<tr><td style=\"text-align: right;\">  3.0</td><td style=\"text-align: right;\">3.0</td><td style=\"text-align: right;\">     5</td><td>[3.1,3.6,3.7]        </td><td style=\"text-align: right;\">               3.4</td><td style=\"text-align: right;\">       592</td><td>Batman (1989)                                             </td><td>Action|Crime|Thriller                          </td></tr>\n",
       "<tr><td style=\"text-align: right;\">  2.9</td><td style=\"text-align: right;\">3.0</td><td style=\"text-align: right;\">     5</td><td>[4.0,3.5,4.2]        </td><td style=\"text-align: right;\">               3.1</td><td style=\"text-align: right;\">       410</td><td>Addams Family Values (1993)                               </td><td>Children|Comedy|Fantasy                        </td></tr>\n",
       "<tr><td style=\"text-align: right;\">  2.9</td><td style=\"text-align: right;\">3.0</td><td style=\"text-align: right;\">     5</td><td>[3.5]                </td><td style=\"text-align: right;\">               3.0</td><td style=\"text-align: right;\">       344</td><td>Ace Ventura: Pet Detective (1994)                         </td><td>Comedy                                         </td></tr>\n",
       "<tr><td style=\"text-align: right;\">  2.7</td><td style=\"text-align: right;\">3.0</td><td style=\"text-align: right;\">     5</td><td>[3.5,3.0]            </td><td style=\"text-align: right;\">               3.3</td><td style=\"text-align: right;\">        39</td><td>Clueless (1995)                                           </td><td>Comedy|Romance                                 </td></tr>\n",
       "<tr><td style=\"text-align: right;\">  2.7</td><td style=\"text-align: right;\">2.0</td><td style=\"text-align: right;\">     5</td><td>[3.1,3.3,2.6]        </td><td style=\"text-align: right;\">               3.4</td><td style=\"text-align: right;\">       316</td><td>Stargate (1994)                                           </td><td>Action|Adventure|Sci-Fi                        </td></tr>\n",
       "<tr><td style=\"text-align: right;\">  2.5</td><td style=\"text-align: right;\">2.0</td><td style=\"text-align: right;\">     5</td><td>[3.1,3.3,3.5,3.0,3.7]</td><td style=\"text-align: right;\">               3.5</td><td style=\"text-align: right;\">       380</td><td>True Lies (1994)                                          </td><td>Action|Adventure|Comedy|Romance|Thriller       </td></tr>\n",
       "<tr><td style=\"text-align: right;\">  2.3</td><td style=\"text-align: right;\">1.0</td><td style=\"text-align: right;\">     5</td><td>[3.8,3.0]            </td><td style=\"text-align: right;\">               3.4</td><td style=\"text-align: right;\">       266</td><td>Legends of the Fall (1994)                                </td><td>Drama|Romance|War|Western                      </td></tr>\n",
       "</tbody>\n",
       "</table>"
      ],
      "text/plain": [
       "'<table>\\n<thead>\\n<tr><th style=\"text-align: right;\">  y_p</th><th style=\"text-align: right;\">  y</th><th style=\"text-align: right;\">  user</th><th>user genre ave       </th><th style=\"text-align: right;\">  movie rating ave</th><th style=\"text-align: right;\">  movie id</th><th>title                                                     </th><th>genres                                         </th></tr>\\n</thead>\\n<tbody>\\n<tr><td style=\"text-align: right;\">  4.7</td><td style=\"text-align: right;\">5.0</td><td style=\"text-align: right;\">     5</td><td>[4.1,4.0,3.8,4.2]    </td><td style=\"text-align: right;\">               3.6</td><td style=\"text-align: right;\">       594</td><td>Snow White and the Seven Dwarfs (1937)                    </td><td>Animation|Children|Drama|Fantasy|Musical       </td></tr>\\n<tr><td style=\"text-align: right;\">  4.3</td><td style=\"text-align: right;\">5.0</td><td style=\"text-align: right;\">     5</td><td>[4.1,4.0,4.2]        </td><td style=\"text-align: right;\">               3.5</td><td style=\"text-align: right;\">       596</td><td>Pinocchio (1940)                                          </td><td>Animation|Children|Fantasy|Musical             </td></tr>\\n<tr><td style=\"text-align: right;\">  4.2</td><td style=\"text-align: right;\">5.0</td><td style=\"text-align: right;\">     5</td><td>[3.5,3.8,3.0]        </td><td style=\"text-align: right;\">               4.0</td><td style=\"text-align: right;\">        58</td><td>Postman, The (Postino, Il) (1994)                         </td><td>Comedy|Drama|Romance                           </td></tr>\\n<tr><td style=\"text-align: right;\">  4.1</td><td style=\"text-align: right;\">4.0</td><td style=\"text-align: right;\">     5</td><td>[3.6,4.0,3.7]        </td><td style=\"text-align: right;\">               4.2</td><td style=\"text-align: right;\">        50</td><td>Usual Suspects, The (1995)                                </td><td>Crime|Mystery|Thriller                         </td></tr>\\n<tr><td style=\"text-align: right;\">  4.1</td><td style=\"text-align: right;\">4.0</td><td style=\"text-align: right;\">     5</td><td>[4.0,3.8]            </td><td style=\"text-align: right;\">               3.7</td><td style=\"text-align: right;\">        34</td><td>Babe (1995)                                               </td><td>Children|Drama                                 </td></tr>\\n<tr><td style=\"text-align: right;\">  4.1</td><td style=\"text-align: right;\">5.0</td><td style=\"text-align: right;\">     5</td><td>[3.8]                </td><td style=\"text-align: right;\">               4.2</td><td style=\"text-align: right;\">       527</td><td>Schindler&#x27;s List (1993)                                   </td><td>Drama|War                                      </td></tr>\\n<tr><td style=\"text-align: right;\">  4.1</td><td style=\"text-align: right;\">4.0</td><td style=\"text-align: right;\">     5</td><td>[3.5,3.6,3.7]        </td><td style=\"text-align: right;\">               3.5</td><td style=\"text-align: right;\">        21</td><td>Get Shorty (1995)                                         </td><td>Comedy|Crime|Thriller                          </td></tr>\\n<tr><td style=\"text-align: right;\">  4.0</td><td style=\"text-align: right;\">5.0</td><td style=\"text-align: right;\">     5</td><td>[3.5,3.6,3.8,3.7]    </td><td style=\"text-align: right;\">               4.2</td><td style=\"text-align: right;\">       296</td><td>Pulp Fiction (1994)                                       </td><td>Comedy|Crime|Drama|Thriller                    </td></tr>\\n<tr><td style=\"text-align: right;\">  4.0</td><td style=\"text-align: right;\">4.0</td><td style=\"text-align: right;\">     5</td><td>[3.6,3.8]            </td><td style=\"text-align: right;\">               3.8</td><td style=\"text-align: right;\">        36</td><td>Dead Man Walking (1995)                                   </td><td>Crime|Drama                                    </td></tr>\\n<tr><td style=\"text-align: right;\">  3.9</td><td style=\"text-align: right;\">3.0</td><td style=\"text-align: right;\">     5</td><td>[3.5,3.6,3.8,3.7]    </td><td style=\"text-align: right;\">               4.1</td><td style=\"text-align: right;\">       608</td><td>Fargo (1996)                                              </td><td>Comedy|Crime|Drama|Thriller                    </td></tr>\\n<tr><td style=\"text-align: right;\">  3.9</td><td style=\"text-align: right;\">4.0</td><td style=\"text-align: right;\">     5</td><td>[3.3,4.1,4.0,3.5,4.2]</td><td style=\"text-align: right;\">               3.9</td><td style=\"text-align: right;\">         1</td><td>Toy Story (1995)                                          </td><td>Adventure|Animation|Children|Comedy|Fantasy    </td></tr>\\n<tr><td style=\"text-align: right;\">  3.9</td><td style=\"text-align: right;\">5.0</td><td style=\"text-align: right;\">     5</td><td>[3.3,3.8]            </td><td style=\"text-align: right;\">               3.8</td><td style=\"text-align: right;\">       590</td><td>Dances with Wolves (1990)                                 </td><td>Adventure|Drama|Western                        </td></tr>\\n<tr><td style=\"text-align: right;\">  3.8</td><td style=\"text-align: right;\">5.0</td><td style=\"text-align: right;\">     5</td><td>[4.1,4.0,4.2,3.0]    </td><td style=\"text-align: right;\">               3.8</td><td style=\"text-align: right;\">       595</td><td>Beauty and the Beast (1991)                               </td><td>Animation|Children|Fantasy|Musical|Romance|IMAX</td></tr>\\n<tr><td style=\"text-align: right;\">  3.8</td><td style=\"text-align: right;\">4.0</td><td style=\"text-align: right;\">     5</td><td>[3.1,3.7]            </td><td style=\"text-align: right;\">               3.7</td><td style=\"text-align: right;\">       474</td><td>In the Line of Fire (1993)                                </td><td>Action|Thriller                                </td></tr>\\n<tr><td style=\"text-align: right;\">  3.8</td><td style=\"text-align: right;\">3.0</td><td style=\"text-align: right;\">     5</td><td>[3.6,3.8]            </td><td style=\"text-align: right;\">               4.4</td><td style=\"text-align: right;\">       318</td><td>Shawshank Redemption, The (1994)                          </td><td>Crime|Drama                                    </td></tr>\\n<tr><td style=\"text-align: right;\">  3.8</td><td style=\"text-align: right;\">4.0</td><td style=\"text-align: right;\">     5</td><td>[3.3,4.1,4.0,3.5]    </td><td style=\"text-align: right;\">               3.8</td><td style=\"text-align: right;\">       588</td><td>Aladdin (1992)                                            </td><td>Adventure|Animation|Children|Comedy|Musical    </td></tr>\\n<tr><td style=\"text-align: right;\">  3.7</td><td style=\"text-align: right;\">2.0</td><td style=\"text-align: right;\">     5</td><td>[3.5,3.0]            </td><td style=\"text-align: right;\">               3.5</td><td style=\"text-align: right;\">       357</td><td>Four Weddings and a Funeral (1994)                        </td><td>Comedy|Romance                                 </td></tr>\\n<tr><td style=\"text-align: right;\">  3.7</td><td style=\"text-align: right;\">3.0</td><td style=\"text-align: right;\">     5</td><td>[3.3,3.8]            </td><td style=\"text-align: right;\">               3.8</td><td style=\"text-align: right;\">       150</td><td>Apollo 13 (1995)                                          </td><td>Adventure|Drama|IMAX                           </td></tr>\\n<tr><td style=\"text-align: right;\">  3.6</td><td style=\"text-align: right;\">4.0</td><td style=\"text-align: right;\">     5</td><td>[3.7]                </td><td style=\"text-align: right;\">               4.0</td><td style=\"text-align: right;\">       457</td><td>Fugitive, The (1993)                                      </td><td>Thriller                                       </td></tr>\\n<tr><td style=\"text-align: right;\">  3.6</td><td style=\"text-align: right;\">3.0</td><td style=\"text-align: right;\">     5</td><td>[3.8,4.2,3.0]        </td><td style=\"text-align: right;\">               3.9</td><td style=\"text-align: right;\">       265</td><td>Like Water for Chocolate (Como agua para chocolate) (1992)</td><td>Drama|Fantasy|Romance                          </td></tr>\\n<tr><td style=\"text-align: right;\">  3.5</td><td style=\"text-align: right;\">3.0</td><td style=\"text-align: right;\">     5</td><td>[3.3,4.1,4.0,3.8]    </td><td style=\"text-align: right;\">               3.9</td><td style=\"text-align: right;\">       364</td><td>Lion King, The (1994)                                     </td><td>Adventure|Animation|Children|Drama|Musical|IMAX</td></tr>\\n<tr><td style=\"text-align: right;\">  3.5</td><td style=\"text-align: right;\">4.0</td><td style=\"text-align: right;\">     5</td><td>[3.1,3.5,3.6,4.2]    </td><td style=\"text-align: right;\">               3.2</td><td style=\"text-align: right;\">       367</td><td>Mask, The (1994)                                          </td><td>Action|Comedy|Crime|Fantasy                    </td></tr>\\n<tr><td style=\"text-align: right;\">  3.4</td><td style=\"text-align: right;\">4.0</td><td style=\"text-align: right;\">     5</td><td>[3.8]                </td><td style=\"text-align: right;\">               3.9</td><td style=\"text-align: right;\">       261</td><td>Little Women (1994)                                       </td><td>Drama                                          </td></tr>\\n<tr><td style=\"text-align: right;\">  3.3</td><td style=\"text-align: right;\">3.0</td><td style=\"text-align: right;\">     5</td><td>[3.1,2.6]            </td><td style=\"text-align: right;\">               4.0</td><td style=\"text-align: right;\">       589</td><td>Terminator 2: Judgment Day (1991)                         </td><td>Action|Sci-Fi                                  </td></tr>\\n<tr><td style=\"text-align: right;\">  3.3</td><td style=\"text-align: right;\">3.0</td><td style=\"text-align: right;\">     5</td><td>[3.1,3.6,3.8,3.7]    </td><td style=\"text-align: right;\">               3.6</td><td style=\"text-align: right;\">       349</td><td>Clear and Present Danger (1994)                           </td><td>Action|Crime|Drama|Thriller                    </td></tr>\\n<tr><td style=\"text-align: right;\">  3.2</td><td style=\"text-align: right;\">3.0</td><td style=\"text-align: right;\">     5</td><td>[3.8,3.0]            </td><td style=\"text-align: right;\">               3.5</td><td style=\"text-align: right;\">       253</td><td>Interview with the Vampire: The Vampire Chronicles (1994) </td><td>Drama|Horror                                   </td></tr>\\n<tr><td style=\"text-align: right;\">  3.1</td><td style=\"text-align: right;\">4.0</td><td style=\"text-align: right;\">     5</td><td>[3.1,3.8]            </td><td style=\"text-align: right;\">               4.0</td><td style=\"text-align: right;\">       110</td><td>Braveheart (1995)                                         </td><td>Action|Drama|War                               </td></tr>\\n<tr><td style=\"text-align: right;\">  3.0</td><td style=\"text-align: right;\">3.0</td><td style=\"text-align: right;\">     5</td><td>[3.5,3.0]            </td><td style=\"text-align: right;\">               3.5</td><td style=\"text-align: right;\">       597</td><td>Pretty Woman (1990)                                       </td><td>Comedy|Romance                                 </td></tr>\\n<tr><td style=\"text-align: right;\">  3.0</td><td style=\"text-align: right;\">3.0</td><td style=\"text-align: right;\">     5</td><td>[3.8]                </td><td style=\"text-align: right;\">               3.5</td><td style=\"text-align: right;\">       300</td><td>Quiz Show (1994)                                          </td><td>Drama                                          </td></tr>\\n<tr><td style=\"text-align: right;\">  3.0</td><td style=\"text-align: right;\">3.0</td><td style=\"text-align: right;\">     5</td><td>[3.1,3.3,3.5,3.6]    </td><td style=\"text-align: right;\">               2.9</td><td style=\"text-align: right;\">       153</td><td>Batman Forever (1995)                                     </td><td>Action|Adventure|Comedy|Crime                  </td></tr>\\n<tr><td style=\"text-align: right;\">  3.0</td><td style=\"text-align: right;\">3.0</td><td style=\"text-align: right;\">     5</td><td>[3.1,3.6,3.7]        </td><td style=\"text-align: right;\">               3.4</td><td style=\"text-align: right;\">       592</td><td>Batman (1989)                                             </td><td>Action|Crime|Thriller                          </td></tr>\\n<tr><td style=\"text-align: right;\">  2.9</td><td style=\"text-align: right;\">3.0</td><td style=\"text-align: right;\">     5</td><td>[4.0,3.5,4.2]        </td><td style=\"text-align: right;\">               3.1</td><td style=\"text-align: right;\">       410</td><td>Addams Family Values (1993)                               </td><td>Children|Comedy|Fantasy                        </td></tr>\\n<tr><td style=\"text-align: right;\">  2.9</td><td style=\"text-align: right;\">3.0</td><td style=\"text-align: right;\">     5</td><td>[3.5]                </td><td style=\"text-align: right;\">               3.0</td><td style=\"text-align: right;\">       344</td><td>Ace Ventura: Pet Detective (1994)                         </td><td>Comedy                                         </td></tr>\\n<tr><td style=\"text-align: right;\">  2.7</td><td style=\"text-align: right;\">3.0</td><td style=\"text-align: right;\">     5</td><td>[3.5,3.0]            </td><td style=\"text-align: right;\">               3.3</td><td style=\"text-align: right;\">        39</td><td>Clueless (1995)                                           </td><td>Comedy|Romance                                 </td></tr>\\n<tr><td style=\"text-align: right;\">  2.7</td><td style=\"text-align: right;\">2.0</td><td style=\"text-align: right;\">     5</td><td>[3.1,3.3,2.6]        </td><td style=\"text-align: right;\">               3.4</td><td style=\"text-align: right;\">       316</td><td>Stargate (1994)                                           </td><td>Action|Adventure|Sci-Fi                        </td></tr>\\n<tr><td style=\"text-align: right;\">  2.5</td><td style=\"text-align: right;\">2.0</td><td style=\"text-align: right;\">     5</td><td>[3.1,3.3,3.5,3.0,3.7]</td><td style=\"text-align: right;\">               3.5</td><td style=\"text-align: right;\">       380</td><td>True Lies (1994)                                          </td><td>Action|Adventure|Comedy|Romance|Thriller       </td></tr>\\n<tr><td style=\"text-align: right;\">  2.3</td><td style=\"text-align: right;\">1.0</td><td style=\"text-align: right;\">     5</td><td>[3.8,3.0]            </td><td style=\"text-align: right;\">               3.4</td><td style=\"text-align: right;\">       266</td><td>Legends of the Fall (1994)                                </td><td>Drama|Romance|War|Western                      </td></tr>\\n</tbody>\\n</table>'"
      ]
     },
     "execution_count": 13,
     "metadata": {},
     "output_type": "execute_result"
    }
   ],
   "source": [
    "uid = 5 \n",
    "# form a set of user vectors. This is the same vector, transformed and repeated.\n",
    "user_vecs, y_vecs = get_user_vecs(uid, unscaled_train_user.to_numpy(), item_vecs, umr_dict)\n",
    "\n",
    "# scale our user and item vectors\n",
    "suser_vecs = scalerUser.transform(user_vecs)\n",
    "sitem_vecs = scalerItem.transform(item_vecs)\n",
    "\n",
    "# make a prediction\n",
    "y_p = model.predict([suser_vecs[:, u_s:], sitem_vecs[:, i_s:]])\n",
    "\n",
    "# unscale y prediction \n",
    "y_pu = scalerTarget.inverse_transform(y_p)\n",
    "\n",
    "# sort the results, highest prediction first\n",
    "sorted_index = np.argsort(-y_pu,axis=0).reshape(-1).tolist()  #negate to get largest rating first\n",
    "sorted_ypu   = y_pu[sorted_index]\n",
    "sorted_items = item_vecs[sorted_index]  #using unscaled vectors for display\n",
    "sorted_user  = user_vecs[sorted_index]\n",
    "sorted_y     = y_vecs[sorted_index]\n",
    "\n",
    "#print sorted predictions for movies rated by the user\n",
    "print_existing_user(sorted_ypu, sorted_y.reshape(-1,1), sorted_user, sorted_items, ivs, uvs, movie_dict, maxcount = 50)"
   ]
  },
  {
   "cell_type": "code",
   "execution_count": null,
   "metadata": {},
   "outputs": [],
   "source": []
  }
 ],
 "metadata": {
  "kernelspec": {
   "display_name": "Python 3",
   "language": "python",
   "name": "python3"
  },
  "language_info": {
   "codemirror_mode": {
    "name": "ipython",
    "version": 3
   },
   "file_extension": ".py",
   "mimetype": "text/x-python",
   "name": "python",
   "nbconvert_exporter": "python",
   "pygments_lexer": "ipython3",
   "version": "3.11.3"
  },
  "orig_nbformat": 4,
  "vscode": {
   "interpreter": {
    "hash": "13f3ce89a5df2ac5a13e4cc62c988721835be963b086d264dfe782dec54fd990"
   }
  }
 },
 "nbformat": 4,
 "nbformat_minor": 2
}

{
 "cells": [
  {
   "cell_type": "code",
   "execution_count": 4,
   "metadata": {},
   "outputs": [
    {
     "name": "stderr",
     "output_type": "stream",
     "text": [
      "c:\\Users\\Burak\\AppData\\Local\\Programs\\Python\\Python311\\Lib\\site-packages\\fuzzywuzzy\\fuzz.py:11: UserWarning: Using slow pure-python SequenceMatcher. Install python-Levenshtein to remove this warning\n",
      "  warnings.warn('Using slow pure-python SequenceMatcher. Install python-Levenshtein to remove this warning')\n"
     ]
    }
   ],
   "source": [
    "import numpy as np\n",
    "from numpy import genfromtxt\n",
    "import numpy.ma as ma\n",
    "import pandas as pd\n",
    "import csv\n",
    "import pickle\n",
    "from fuzzywuzzy import fuzz"
   ]
  },
  {
   "cell_type": "code",
   "execution_count": 5,
   "metadata": {},
   "outputs": [],
   "source": [
    "with open('movie_to_idx.pickle', 'rb') as f:\n",
    "    # Dump the dictionary into the file using pickle\n",
    "    movie_to_idx = pickle.load(f)"
   ]
  },
  {
   "cell_type": "code",
   "execution_count": 6,
   "metadata": {},
   "outputs": [],
   "source": [
    "with open('m_dist.pickle', 'rb') as f:\n",
    "    # Dump the dictionary into the file using pickle\n",
    "    m_dist = pickle.load(f)"
   ]
  },
  {
   "cell_type": "code",
   "execution_count": 7,
   "metadata": {},
   "outputs": [],
   "source": [
    "with open('movie_dict.pickle', 'rb') as f:\n",
    "    # Dump the dictionary into the file using pickle\n",
    "    movie_dict = pickle.load(f)"
   ]
  },
  {
   "cell_type": "code",
   "execution_count": 8,
   "metadata": {},
   "outputs": [],
   "source": [
    "with open('movieLinkLarge.pickle', 'rb') as f:\n",
    "    # Load the dictionary from the file using pickle\n",
    "    movieLink = pickle.load(f)"
   ]
  },
  {
   "cell_type": "code",
   "execution_count": 9,
   "metadata": {},
   "outputs": [],
   "source": [
    "item_vecs = genfromtxt('item_vecs.csv', delimiter=',')"
   ]
  },
  {
   "cell_type": "code",
   "execution_count": 10,
   "metadata": {},
   "outputs": [],
   "source": [
    "def fuzzy_matching(fav_movie, verbose=True):\n",
    "    print('inside of fuzzy matching')\n",
    "    \"\"\"\n",
    "    return the closest match via fuzzy ratio. If no match found, return None\n",
    "    \n",
    "    Parameters\n",
    "    ----------    \n",
    "    mapper: dict, map movie title name to index of the movie in data\n",
    "\n",
    "    fav_movie: str, name of user input movie\n",
    "    \n",
    "    verbose: bool, print log if True\n",
    "\n",
    "    Return\n",
    "    ------\n",
    "    index of the closest match\n",
    "    \"\"\"\n",
    "    match_tuple = []\n",
    "    # get match\n",
    "    for title, idx in movie_to_idx.items():\n",
    "        ratio = fuzz.ratio(title.lower(), fav_movie.lower())\n",
    "        if ratio >= 60:\n",
    "            match_tuple.append((title, idx, ratio))\n",
    "    # sort\n",
    "    match_tuple = sorted(match_tuple, key=lambda x: x[2])[::-1]\n",
    "    if not match_tuple:\n",
    "        print('Oops! No match is found')\n",
    "        return\n",
    "    if verbose:\n",
    "        print('Found possible matches in our database: {0}\\n'.format([x[0] for x in match_tuple]))\n",
    "    return match_tuple[0][1]\n"
   ]
  },
  {
   "cell_type": "code",
   "execution_count": 11,
   "metadata": {},
   "outputs": [],
   "source": [
    "def make_pred(fav_movie, n_recommandations = 10):\n",
    "    id_listesi = []\n",
    "    title_listesi = []\n",
    "    idx = fuzzy_matching(fav_movie)\n",
    "    for i in np.argsort(m_dist[idx])[::1][:n_recommandations]:\n",
    "        movid = int(item_vecs[i,0])\n",
    "        id_listesi.append(movid)\n",
    "        title_listesi.append(movie_dict[item_vecs[i,0]]['title'])\n",
    "\n",
    "\n",
    "    return id_listesi, title_listesi\n",
    "    "
   ]
  },
  {
   "cell_type": "code",
   "execution_count": 13,
   "metadata": {},
   "outputs": [
    {
     "name": "stdout",
     "output_type": "stream",
     "text": [
      "0\n",
      "1\n",
      "2\n",
      "3\n",
      "4\n",
      "5\n",
      "6\n",
      "7\n",
      "8\n",
      "9\n"
     ]
    }
   ],
   "source": [
    "for i in range(10):\n",
    "    print(i)"
   ]
  },
  {
   "cell_type": "code",
   "execution_count": 40,
   "metadata": {},
   "outputs": [
    {
     "data": {
      "text/plain": [
       "3578.0"
      ]
     },
     "execution_count": 40,
     "metadata": {},
     "output_type": "execute_result"
    }
   ],
   "source": [
    "item_vecs[524,0]"
   ]
  },
  {
   "cell_type": "code",
   "execution_count": 38,
   "metadata": {},
   "outputs": [
    {
     "data": {
      "text/plain": [
       "{'title': 'Gladiator (2000)', 'genres': 'Action|Adventure|Drama'}"
      ]
     },
     "execution_count": 38,
     "metadata": {},
     "output_type": "execute_result"
    }
   ],
   "source": [
    "movie_dict[item_vecs[524,0]]"
   ]
  },
  {
   "cell_type": "code",
   "execution_count": 12,
   "metadata": {},
   "outputs": [
    {
     "name": "stdout",
     "output_type": "stream",
     "text": [
      "inside of fuzzy matching\n",
      "Found possible matches in our database: ['Troy (2004)', 'Hellboy (2004)']\n",
      "\n"
     ]
    },
    {
     "data": {
      "text/plain": [
       "([7090, 3578, 7143, 55247, 41569, 86332, 54001, 150, 5064, 590],\n",
       " ['Hero (Ying xiong) (2002)',\n",
       "  'Gladiator (2000)',\n",
       "  'Last Samurai, The (2003)',\n",
       "  'Into the Wild (2007)',\n",
       "  'King Kong (2005)',\n",
       "  'Thor (2011)',\n",
       "  'Harry Potter and the Order of the Phoenix (2007)',\n",
       "  'Apollo 13 (1995)',\n",
       "  'The Count of Monte Cristo (2002)',\n",
       "  'Dances with Wolves (1990)'])"
      ]
     },
     "execution_count": 12,
     "metadata": {},
     "output_type": "execute_result"
    }
   ],
   "source": [
    "make_pred('troy 2004')"
   ]
  },
  {
   "cell_type": "code",
   "execution_count": 21,
   "metadata": {},
   "outputs": [
    {
     "name": "stdout",
     "output_type": "stream",
     "text": [
      "Hero (Ying xiong) (2002)\n",
      "Gladiator (2000)\n",
      "Last Samurai, The (2003)\n",
      "Into the Wild (2007)\n",
      "King Kong (2005)\n",
      "Thor (2011)\n",
      "Harry Potter and the Order of the Phoenix (2007)\n",
      "Apollo 13 (1995)\n",
      "The Count of Monte Cristo (2002)\n",
      "Dances with Wolves (1990)\n"
     ]
    }
   ],
   "source": [
    "for i in np.argsort(m_dist[idx])[::1][:10]:\n",
    "    print(movie_dict[item_vecs[i,0]]['title'])"
   ]
  },
  {
   "cell_type": "code",
   "execution_count": 14,
   "metadata": {},
   "outputs": [
    {
     "name": "stdout",
     "output_type": "stream",
     "text": [
      "inside of fuzzy matching\n",
      "Found possible matches in our database: ['Troy (2004)', 'Hellboy (2004)']\n",
      "\n"
     ]
    },
    {
     "data": {
      "text/plain": [
       "array([665, 524, 666, 770, 732, 822, 765,  38, 608, 143], dtype=int64)"
      ]
     },
     "execution_count": 14,
     "metadata": {},
     "output_type": "execute_result"
    }
   ],
   "source": [
    "np.argsort(m_dist[10])[::1][:10]"
   ]
  },
  {
   "cell_type": "code",
   "execution_count": null,
   "metadata": {},
   "outputs": [],
   "source": []
  }
 ],
 "metadata": {
  "kernelspec": {
   "display_name": "Python 3",
   "language": "python",
   "name": "python3"
  },
  "language_info": {
   "codemirror_mode": {
    "name": "ipython",
    "version": 3
   },
   "file_extension": ".py",
   "mimetype": "text/x-python",
   "name": "python",
   "nbconvert_exporter": "python",
   "pygments_lexer": "ipython3",
   "version": "3.11.3"
  },
  "orig_nbformat": 4
 },
 "nbformat": 4,
 "nbformat_minor": 2
}
